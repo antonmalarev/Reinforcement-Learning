{
 "cells": [
  {
   "cell_type": "markdown",
   "metadata": {},
   "source": [
    "## Reinforcement Learning with a Q-learning agent"
   ]
  },
  {
   "cell_type": "markdown",
   "metadata": {},
   "source": [
    "### Components of RL\n",
    "\n",
    "Every RL problem consists of:\n",
    "\n",
    "1. Agent 🏃\n",
    "\n",
    "The entity that makes decisions (e.g., a robot, a game character).\n",
    "\n",
    "2. Environment 🌍\n",
    "\n",
    "The world the agent interacts with (e.g., a maze, a video game).\n",
    "\n",
    "3. State (S) 📍\n",
    "\n",
    "A representation of the current situation (e.g., a robot's position (x, y)).\n",
    "\n",
    "4. Actions (A) 🎮\n",
    "\n",
    "The choices available to the agent (e.g., move up, down, left, right).\n",
    "\n",
    "5. Reward (R) 💰\n",
    "\n",
    "A score given to the agent based on its action.\n",
    "\n",
    "6. Policy (π) 📜\n",
    "\n",
    "A strategy that tells the agent what action to take in each state. The policy is what the agent learns over time."
   ]
  },
  {
   "cell_type": "markdown",
   "metadata": {},
   "source": [
    "We’ll create a 5x5 grid where the agent moves up, down, left, or right to reach a goal.\n",
    "\n",
    "### Environment Setup\n",
    "The agent starts at (0,0).\n",
    "\n",
    "The goal is at (4,4).\n",
    "\n",
    "The agent gets:\n",
    "\n",
    "✅ +10 reward for reaching the goal.\n",
    "\n",
    "❌ -1 penalty for every move (to encourage shortest path).\n",
    "\n",
    "❌ -10 penalty for hitting walls.\n",
    "\n",
    "The agent will learn by trial and error using Q-learning."
   ]
  },
  {
   "cell_type": "code",
   "execution_count": 1,
   "metadata": {},
   "outputs": [],
   "source": [
    "import numpy as np\n",
    "import random\n",
    "\n",
    "class GridWorld:\n",
    "    def __init__(self, size=5):\n",
    "        self.size = size\n",
    "        self.state = (0, 0)  # Start position\n",
    "        self.goal = (size-1, size-1)  # Goal position\n",
    "\n",
    "    def reset(self):\n",
    "        self.state = (0, 0)  # Reset to start position\n",
    "        return self.state\n",
    "    \n",
    "    def validate_state(self, x, y):\n",
    "        \"\"\" Ensure the agent stays inside the grid. \"\"\"\n",
    "        x = max(0, min(x, self.size - 1))\n",
    "        y = max(0, min(y, self.size - 1))\n",
    "        return x, y\n",
    "\n",
    "    def step(self, action):\n",
    "        x, y = self.state\n",
    "        \n",
    "        # Actions: 0 = up, 1 = down, 2 = left, 3 = right\n",
    "        if action == 0:\n",
    "            x -= 1  # Move up\n",
    "        elif action == 1:\n",
    "            x += 1  # Move down\n",
    "        elif action == 2:\n",
    "            y -= 1  # Move left\n",
    "        elif action == 3:\n",
    "            y += 1  # Move right\n",
    "\n",
    "        # Update state\n",
    "        new_x, new_y = self.validate_state(x, y)\n",
    "        self.state = (new_x, new_y)\n",
    "\n",
    "        # If the move was invalid (agent tried to move out of bounds)\n",
    "        hit_wall = (x != new_x or y != new_y)\n",
    "\n",
    "        # Reward system\n",
    "        if self.state == self.goal:\n",
    "            return self.state, 10, True  # Goal reached\n",
    "        elif hit_wall:\n",
    "            return self.state, -10, False  # Wall was hit\n",
    "        else:\n",
    "            return self.state, -1, False  # Small penalty for each move\n"
   ]
  },
  {
   "cell_type": "markdown",
   "metadata": {},
   "source": [
    "## Q-Learning Formula (Bellman equation)\n",
    "$$\n",
    "Q(S, A) = Q(S, A) + \\alpha \\left[ R + \\gamma \\max Q(S', A') - Q(S, A) \\right]\n",
    "$$\n",
    "\n",
    "Where:\n",
    "\n",
    "$$\n",
    "Q(S, A)\n",
    "$$\n",
    "Current Q-value of action A in state S.\n",
    "\n",
    "$$\n",
    "R\n",
    "$$\n",
    "Reward received after taking action A.\n",
    "\n",
    "$$\n",
    "\\gamma (gamma)\n",
    "$$ \n",
    "Discount factor (importance of future rewards).\n",
    "\n",
    "$$\n",
    "\\alpha (alpha)\n",
    "$$\n",
    "Learning rate (how much to update Q-values).\n",
    "\n",
    "$$\n",
    "\\max Q(S', A')\n",
    "$$\n",
    "Best future reward from the next state."
   ]
  },
  {
   "cell_type": "code",
   "execution_count": 2,
   "metadata": {},
   "outputs": [],
   "source": [
    "class QLearningAgent:\n",
    "    def __init__(self, grid_size=5, alpha=0.1, gamma=0.9, epsilon=1.0, epsilon_min=0.01, epsilon_decay=0.995):\n",
    "        self.grid_size = grid_size\n",
    "        self.alpha = alpha      # Learning rate\n",
    "        self.gamma = gamma      # Discount factor\n",
    "        self.epsilon = epsilon  # Exploration rate\n",
    "        self.epsilon_min = epsilon_min  # Minimum exploration rate\n",
    "        self.epsilon_decay = epsilon_decay  # Decay rate for exploration\n",
    "        \n",
    "        # Initialize Q-table (5x5 grid, 4 actions)\n",
    "        self.q_table = np.zeros((grid_size, grid_size, 4))\n",
    "\n",
    "    def decay_epsilon(self):\n",
    "        \"\"\" Decrease epsilon over time \"\"\"\n",
    "        self.epsilon = max(self.epsilon_min, self.epsilon * self.epsilon_decay)\n",
    "\n",
    "    def choose_action(self, state):\n",
    "        x, y = state\n",
    "\n",
    "        # Decaying ε-greedy strategy\n",
    "        if np.random.rand() < self.epsilon:\n",
    "            return np.random.choice(4)  # Explore (random action)\n",
    "        else:\n",
    "            return np.argmax(self.q_table[x, y])  # Exploit (best action)\n",
    "\n",
    "    def update_q_value(self, state, action, reward, next_state):\n",
    "        x, y = state\n",
    "        nx, ny = next_state\n",
    "\n",
    "        # Bellman equation update\n",
    "        best_future_q = np.max(self.q_table[nx, ny])\n",
    "        self.q_table[x, y, action] += self.alpha * (reward + self.gamma * best_future_q - self.q_table[x, y, action])\n"
   ]
  },
  {
   "cell_type": "markdown",
   "metadata": {},
   "source": [
    "Let's train the agent for 1000 episodes:"
   ]
  },
  {
   "cell_type": "code",
   "execution_count": 3,
   "metadata": {},
   "outputs": [
    {
     "name": "stdout",
     "output_type": "stream",
     "text": [
      "Episode 0 complete\n",
      "Episode 50 complete\n",
      "Episode 100 complete\n",
      "Episode 150 complete\n",
      "Episode 200 complete\n",
      "Episode 250 complete\n",
      "Episode 300 complete\n",
      "Episode 350 complete\n",
      "Episode 400 complete\n",
      "Episode 450 complete\n",
      "Episode 500 complete\n",
      "Episode 550 complete\n",
      "Episode 600 complete\n",
      "Episode 650 complete\n",
      "Episode 700 complete\n",
      "Episode 750 complete\n",
      "Episode 800 complete\n",
      "Episode 850 complete\n",
      "Episode 900 complete\n",
      "Episode 950 complete\n"
     ]
    }
   ],
   "source": [
    "env = GridWorld()\n",
    "agent = QLearningAgent()\n",
    "\n",
    "episodes = 1000\n",
    "rewards = []\n",
    "\n",
    "for episode in range(episodes):\n",
    "    state = env.reset()\n",
    "    done = False\n",
    "    total_reward = 0\n",
    "    \n",
    "    while not done:\n",
    "        action = agent.choose_action(state)  # Pick action\n",
    "        next_state, reward, done = env.step(action)  # Take action\n",
    "        total_reward += reward\n",
    "        agent.update_q_value(state, action, reward, next_state)  # Learn\n",
    "        state = next_state  # Move to next state\n",
    "\n",
    "    agent.decay_epsilon()\n",
    "    rewards.append(total_reward)\n",
    "    \n",
    "    if episode % 50 == 0:\n",
    "        print(f\"Episode {episode} complete\")\n"
   ]
  },
  {
   "cell_type": "markdown",
   "metadata": {},
   "source": [
    "Visualize how the agent's policy works"
   ]
  },
  {
   "cell_type": "code",
   "execution_count": 4,
   "metadata": {},
   "outputs": [
    {
     "name": "stdout",
     "output_type": "stream",
     "text": [
      "[['→' '↓' '↓' '↓' '↓']\n",
      " ['→' '→' '↓' '↓' '↓']\n",
      " ['→' '→' '→' '↓' '↓']\n",
      " ['→' '→' '→' '↓' '↓']\n",
      " ['→' '→' '→' '→' '🏆']]\n"
     ]
    }
   ],
   "source": [
    "actions = [\"↑\", \"↓\", \"←\", \"→\"]\n",
    "policy_grid = np.empty((5,5), dtype=str)\n",
    "\n",
    "for i in range(5):\n",
    "    for j in range(5):\n",
    "        best_action = np.argmax(agent.q_table[i, j])\n",
    "        policy_grid[i, j] = actions[best_action]\n",
    "\n",
    "policy_grid[4, 4] = \"🏆\"  # Mark goal position\n",
    "print(policy_grid)\n"
   ]
  },
  {
   "cell_type": "code",
   "execution_count": null,
   "metadata": {},
   "outputs": [
    {
     "name": "stdout",
     "output_type": "stream",
     "text": [
      "🔴 👣 ⬜ ⬜ ⬜\n",
      "⬜ 👣 👣 ⬜ ⬜\n",
      "⬜ ⬜ 👣 👣 ⬜\n",
      "⬜ ⬜ ⬜ 👣 ⬜\n",
      "⬜ ⬜ ⬜ 👣 🏆\n"
     ]
    }
   ],
   "source": [
    "import matplotlib.pyplot as plt\n",
    "\n",
    "# Run one last episode to track the path\n",
    "state = env.reset()\n",
    "done = False\n",
    "path = [state]  # Track positions\n",
    "\n",
    "while not done:\n",
    "    action = agent.choose_action(state)\n",
    "    state, reward, done = env.step(action)\n",
    "    path.append(state)  # Store position\n",
    "\n",
    "# Convert path to a grid representation\n",
    "grid = np.full((env.size, env.size), \"⬜\")  # Empty cells\n",
    "\n",
    "# Mark the path\n",
    "for (x, y) in path:\n",
    "    grid[x, y] = \"👣\"  # Dots for movement\n",
    "\n",
    "# Mark start and goal\n",
    "grid[path[0]] = \"🔴\"  # Start position\n",
    "grid[path[-1]] = \"🏆\"  # Goal position\n",
    "\n",
    "# Print the final path grid\n",
    "for row in grid:\n",
    "    print(\" \".join(row))\n"
   ]
  },
  {
   "cell_type": "code",
   "execution_count": 12,
   "metadata": {},
   "outputs": [
    {
     "name": "stdout",
     "output_type": "stream",
     "text": [
      "var path = [Vector2(0, 0), Vector2(0, 1), Vector2(1, 1), Vector2(1, 2), Vector2(2, 2), Vector2(2, 3), Vector2(3, 3), Vector2(4, 3), Vector2(4, 4)]\n"
     ]
    }
   ],
   "source": [
    "godot_path = f\"var path = [{', '.join([f'Vector2({x}, {y})' for x, y in path])}]\"\n",
    "print(godot_path)"
   ]
  },
  {
   "cell_type": "markdown",
   "metadata": {},
   "source": [
    "Plot how total rewards were changing during the training"
   ]
  },
  {
   "cell_type": "code",
   "execution_count": 6,
   "metadata": {},
   "outputs": [
    {
     "data": {
      "image/png": "[encoded data removed]",
      "text/plain": [
       "<Figure size 640x480 with 1 Axes>"
      ]
     },
     "metadata": {},
     "output_type": "display_data"
    }
   ],
   "source": [
    "plt.plot(rewards)\n",
    "plt.xlabel(\"Episodes\")\n",
    "plt.ylabel(\"Total Reward\")\n",
    "plt.title(\"Reward Over Time\")\n",
    "plt.show()"
   ]
  },
  {
   "cell_type": "markdown",
   "metadata": {},
   "source": [
    "Smooth to see better"
   ]
  },
  {
   "cell_type": "code",
   "execution_count": 7,
   "metadata": {},
   "outputs": [
    {
     "data": {
      "image/png": "[encoded data removed]",
      "text/plain": [
       "<Figure size 640x480 with 1 Axes>"
      ]
     },
     "metadata": {},
     "output_type": "display_data"
    }
   ],
   "source": [
    "def moving_average(data, window_size=50):\n",
    "    return np.convolve(data, np.ones(window_size)/window_size, mode=\"valid\")\n",
    "\n",
    "smoothed_rewards = moving_average(rewards, window_size=50)\n",
    "\n",
    "plt.plot(range(len(smoothed_rewards)), smoothed_rewards)\n",
    "plt.xlabel(\"Episodes\")\n",
    "plt.ylabel(\"Smoothed Total Reward\")\n",
    "plt.title(\"Smoothed Reward Over Time\")\n",
    "plt.show()\n"
   ]
  },
  {
   "cell_type": "code",
   "execution_count": 75,
   "metadata": {},
   "outputs": [
    {
     "name": "stdout",
     "output_type": "stream",
     "text": [
      "Policy saved!\n"
     ]
    }
   ],
   "source": [
    "import json\n",
    "\n",
    "# Save to JSON\n",
    "with open(\"policy.json\", \"w\") as f:\n",
    "    json.dump(policy_grid.tolist(), f)\n",
    "\n",
    "print(\"Policy saved!\")"
   ]
  },
  {
   "cell_type": "code",
   "execution_count": null,
   "metadata": {},
   "outputs": [],
   "source": [
    "import json\n",
    "\n",
    "# Store the last path\n",
    "last_moves = []\n",
    "\n",
    "for episode in range(episodes):\n",
    "    state = env.reset()\n",
    "    total_reward = 0\n",
    "    done = False\n",
    "    episode_moves = []  # Record this episode's moves\n",
    "\n",
    "    while not done:\n",
    "        action = agent.choose_action(state)\n",
    "        next_state, reward, done = env.step(action)\n",
    "        agent.update_q_value(state, action, reward, next_state)\n",
    "        \n",
    "        episode_moves.append(action)  # Save action\n",
    "        state = next_state\n",
    "        total_reward += reward\n",
    "\n",
    "    if episode == episodes - 1:  # Save only the last episode\n",
    "        last_moves = episode_moves\n",
    "\n",
    "# Convert actions to symbols (↑, ↓, ←, →)\n",
    "action_map = {0: \"↑\", 1: \"↓\", 2: \"←\", 3: \"→\"}\n",
    "last_moves = [action_map[a] for a in last_moves]\n",
    "\n",
    "# Save the last path to JSON\n",
    "with open(\"last_moves.json\", \"w\") as f:\n",
    "    json.dump(last_moves, f)\n"
   ]
  }
 ],
 "metadata": {
  "kernelspec": {
   "display_name": "venv",
   "language": "python",
   "name": "python3"
  },
  "language_info": {
   "codemirror_mode": {
    "name": "ipython",
    "version": 3
   },
   "file_extension": ".py",
   "mimetype": "text/x-python",
   "name": "python",
   "nbconvert_exporter": "python",
   "pygments_lexer": "ipython3",
   "version": "3.12.7"
  }
 },
 "nbformat": 4,
 "nbformat_minor": 2
}
